{
 "cells": [
  {
   "cell_type": "code",
   "execution_count": 1,
   "id": "e299e331-8e9d-4b74-bb95-979f803d668b",
   "metadata": {
    "tags": []
   },
   "outputs": [],
   "source": [
    "import pandas as pd\n",
    "from bs4 import BeautifulSoup\n",
    "import requests"
   ]
  },
  {
   "cell_type": "code",
   "execution_count": 2,
   "id": "58cc185c-0f98-45e0-8e66-6af6c926c024",
   "metadata": {
    "tags": []
   },
   "outputs": [],
   "source": [
    "#get the soup from the website\n",
    "url = requests.get(\"https://nutritionfacts.org/daily-dozen/\")\n",
    "soup = BeautifulSoup(url.content, \"html.parser\")"
   ]
  },
  {
   "cell_type": "code",
   "execution_count": 3,
   "id": "82f61c44-bbaa-4aba-98b6-e580bbd3678d",
   "metadata": {
    "tags": []
   },
   "outputs": [],
   "source": [
    "#find the needed data in the soup and make lists\n",
    "dd_grid = soup.find_all(attrs={\"class\":\"daily-dozen-grid mt-3\"})\n",
    "dd = [foodgroup.text.strip() for entry in dd_grid for foodgroup in entry.find_all(\"h3\")]\n",
    "servings_and_examples = [serving.text.strip() for entry in dd_grid for serving in entry.find_all(\"p\")]\n",
    "examples = servings_and_examples[1::2]\n",
    "servings = servings_and_examples[::2]"
   ]
  },
  {
   "cell_type": "code",
   "execution_count": 4,
   "id": "b1c15307-1367-47be-b586-8a3f6151e2c3",
   "metadata": {
    "tags": []
   },
   "outputs": [],
   "source": [
    "#make a dataframe out of the individual lists\n",
    "df_dd = pd.DataFrame({\n",
    "   \"food_group\": dd,\n",
    "    \"servings\": servings, \n",
    "    \"examples\": examples})\n",
    "\n",
    "df_dd['servings'] = df_dd['servings'].str.extract('(\\d+)').astype(float)"
   ]
  },
  {
   "cell_type": "code",
   "execution_count": 5,
   "id": "f703ea53-2a2e-4653-8275-51e2be5ee0fe",
   "metadata": {
    "tags": []
   },
   "outputs": [
    {
     "name": "stdout",
     "output_type": "stream",
     "text": [
      "food_group            object\n",
      "servings             float64\n",
      "examples      string[python]\n",
      "dtype: object\n"
     ]
    }
   ],
   "source": [
    "df_dd[\"examples\"] = df_dd[\"examples\"].astype(\"string\")\n",
    "print(df_dd.dtypes)"
   ]
  },
  {
   "cell_type": "code",
   "execution_count": 6,
   "id": "69886af3-d250-48aa-954a-bccff407b2c5",
   "metadata": {
    "tags": []
   },
   "outputs": [
    {
     "name": "stdout",
     "output_type": "stream",
     "text": [
      "                food_group  servings  \\\n",
      "0                    Beans       3.0   \n",
      "1                  Berries       1.0   \n",
      "2             Other Fruits       3.0   \n",
      "3   Cruciferous Vegetables       1.0   \n",
      "4                   Greens       2.0   \n",
      "5         Other Vegetables       2.0   \n",
      "6                 Flaxseed       1.0   \n",
      "7           Nuts and Seeds       1.0   \n",
      "8         Herbs and Spices       1.0   \n",
      "9             Whole Grains       3.0   \n",
      "10               Beverages       5.0   \n",
      "11                Exercise       1.0   \n",
      "\n",
      "                                        examples  \n",
      "0            e.g. ½ c. cooked beans, ¼ c. hummus  \n",
      "1          e.g. ½ c. fresh or frozen, ¼ c. dried  \n",
      "2          e.g. 1 medium fruit, ¼ c. dried fruit  \n",
      "3          e.g. ½ c. chopped, 1 tbsp horseradish  \n",
      "4                     e.g. 1 c. raw, ½ c. cooked  \n",
      "5                  e.g. ½ c. nonleafy vegetables  \n",
      "6                             e.g. 1 tbsp ground  \n",
      "7              e.g. ¼ c. nuts, 2 tbsp nut butter  \n",
      "8                            e.g. ¼ tsp turmeric  \n",
      "9         e.g. ½ c. hot cereal, 1 slice of bread  \n",
      "10        e.g. Water, green tea,\n",
      "\t\t\thibiscus tea  \n",
      "11  e.g. 90 min. moderate or\n",
      "\t\t\t40 min. vigorous  \n"
     ]
    }
   ],
   "source": [
    "#convert the 60 oz of drinks to five servings (five glasses - mugs of water, tea etc)\n",
    "df_dd.loc[df_dd['food_group'] == \"Beverages\", 'servings'] = 5\n",
    "df_dd.loc[df_dd['food_group'] == \"Exercise\", 'servings'] = 1\n",
    "\n",
    "#drop the exercise column, since it is not a foodgroup\n",
    "#df_dd = df_dd.drop(index=11)\n",
    "print(df_dd)"
   ]
  },
  {
   "cell_type": "code",
   "execution_count": 7,
   "id": "0598473d-226e-4d45-a7a4-1632fb828b6e",
   "metadata": {
    "tags": []
   },
   "outputs": [],
   "source": [
    "#change the foodgroups to be in line with the data later on\n",
    "df_dd.at[6, 'food_group'] = 'Flaxseeds'\n",
    "df_dd.at[7, 'food_group'] = 'Nuts'\n",
    "df_dd.at[8, 'food_group'] = 'Spices'"
   ]
  },
  {
   "cell_type": "code",
   "execution_count": 8,
   "id": "0d477fe6-6d6f-4bda-9ae5-e593801ebfc2",
   "metadata": {
    "tags": []
   },
   "outputs": [
    {
     "name": "stdout",
     "output_type": "stream",
     "text": [
      "                food_group  servings  \\\n",
      "0                    Beans       3.0   \n",
      "1                  Berries       1.0   \n",
      "2             Other Fruits       3.0   \n",
      "3   Cruciferous Vegetables       1.0   \n",
      "4                   Greens       2.0   \n",
      "5         Other Vegetables       2.0   \n",
      "6                Flaxseeds       1.0   \n",
      "7                     Nuts       1.0   \n",
      "8                   Spices       1.0   \n",
      "9             Whole Grains       3.0   \n",
      "10               Beverages       5.0   \n",
      "11                Exercise       1.0   \n",
      "\n",
      "                                        examples  \n",
      "0            e.g. ½ c. cooked beans, ¼ c. hummus  \n",
      "1          e.g. ½ c. fresh or frozen, ¼ c. dried  \n",
      "2          e.g. 1 medium fruit, ¼ c. dried fruit  \n",
      "3          e.g. ½ c. chopped, 1 tbsp horseradish  \n",
      "4                     e.g. 1 c. raw, ½ c. cooked  \n",
      "5                  e.g. ½ c. nonleafy vegetables  \n",
      "6                             e.g. 1 tbsp ground  \n",
      "7              e.g. ¼ c. nuts, 2 tbsp nut butter  \n",
      "8                            e.g. ¼ tsp turmeric  \n",
      "9         e.g. ½ c. hot cereal, 1 slice of bread  \n",
      "10        e.g. Water, green tea,\n",
      "\t\t\thibiscus tea  \n",
      "11  e.g. 90 min. moderate or\n",
      "\t\t\t40 min. vigorous  \n"
     ]
    }
   ],
   "source": [
    "print(df_dd)"
   ]
  },
  {
   "cell_type": "code",
   "execution_count": 9,
   "id": "a7406a78-3434-4554-a574-9bb84c4a6d67",
   "metadata": {
    "tags": []
   },
   "outputs": [],
   "source": [
    "df_dd.to_csv(\"/Users/lottedieleman/Documents/PORTOLIO/df_dd.csv\", index=False)"
   ]
  }
 ],
 "metadata": {
  "kernelspec": {
   "display_name": "Python 3 (ipykernel)",
   "language": "python",
   "name": "python3"
  },
  "language_info": {
   "codemirror_mode": {
    "name": "ipython",
    "version": 3
   },
   "file_extension": ".py",
   "mimetype": "text/x-python",
   "name": "python",
   "nbconvert_exporter": "python",
   "pygments_lexer": "ipython3",
   "version": "3.11.5"
  }
 },
 "nbformat": 4,
 "nbformat_minor": 5
}
